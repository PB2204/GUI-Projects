{
 "cells": [
  {
   "cell_type": "code",
   "execution_count": 1,
   "metadata": {},
   "outputs": [],
   "source": [
    "import tkinter as tk\n",
    "import string\n",
    "import random"
   ]
  },
  {
   "cell_type": "code",
   "execution_count": 2,
   "metadata": {},
   "outputs": [],
   "source": [
    "def generate_password():\n",
    "    password = []\n",
    "    for i in range(5):\n",
    "        alpha = random.choice(string.ascii_letters)\n",
    "        symbol = random.choice(string.punctuation)\n",
    "        numbers = random.choice(string.digits)\n",
    "        password.append(alpha)\n",
    "        password.append(symbol)\n",
    "        password.append(numbers)\n",
    "        passwords = \" \".join(str(x)for x in password)\n",
    "        label.config(text=passwords)"
   ]
  },
  {
   "cell_type": "code",
   "execution_count": null,
   "metadata": {},
   "outputs": [],
   "source": [
    "root = tk.Tk()\n",
    "root.geometry(\"400x300\")\n",
    "button = tk.Button(root, text=\"Generate Password\", command=generate_password)\n",
    "button.grid(row=1, column=1)\n",
    "label = tk.Label(root, font=(\"times\", 15, \"bold\"))\n",
    "label.grid(row=4, column=2)\n",
    "root.mainloop()"
   ]
  }
 ],
 "metadata": {
  "kernelspec": {
   "display_name": "Python 3",
   "language": "python",
   "name": "python3"
  },
  "language_info": {
   "codemirror_mode": {
    "name": "ipython",
    "version": 3
   },
   "file_extension": ".py",
   "mimetype": "text/x-python",
   "name": "python",
   "nbconvert_exporter": "python",
   "pygments_lexer": "ipython3",
   "version": "3.11.3"
  },
  "orig_nbformat": 4
 },
 "nbformat": 4,
 "nbformat_minor": 2
}
